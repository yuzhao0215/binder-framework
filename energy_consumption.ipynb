{
 "cells": [
  {
   "cell_type": "markdown",
   "id": "e3b5f0b8",
   "metadata": {},
   "source": [
    "## Day4: Pandas"
   ]
  },
  {
   "cell_type": "code",
   "execution_count": 128,
   "id": "00652c44",
   "metadata": {},
   "outputs": [
    {
     "name": "stdout",
     "output_type": "stream",
     "text": [
      "1. There are 439 different companies\n",
      "2. There are 102 jobs created in Queens\n",
      "3. There are 357 unique email domain names\n",
      "\n",
      "4. (1) average total savings:\n",
      "NTA\n",
      "Battery Park City-Lower Manhattan                   469890.796667\n",
      "Bushwick South                                       26140.455000\n",
      "Carroll Gardens-Columbia Street-Red Hook             24337.390000\n",
      "College Point                                        17159.372857\n",
      "Crown Heights North                                   4036.298889\n",
      "DUMBO-Vinegar Hill-Downtown Brooklyn-Boerum Hill     59950.340000\n",
      "East New York                                        48433.093333\n",
      "East Williamsburg                                    13990.626364\n",
      "Greenpoint                                            9753.649286\n",
      "Hunters Point-Sunnyside-West Maspeth                 23931.398933\n",
      "Hunts Point                                          39246.016154\n",
      "Manhattanville                                        2760.888889\n",
      "Maspeth                                               6658.283333\n",
      "Mott Haven-Port Morris                               17843.937857\n",
      "Queensbridge-Ravenswood-Long Island City             61830.770625\n",
      "SoHo-TriBeCa-Civic Center-Little Italy               37214.024000\n",
      "Springfield Gardens South-Brookville                 17757.662000\n",
      "Steinway                                             11227.155714\n",
      "Sunset Park West                                     14316.976875\n",
      "park-cemetery-etc-Brooklyn                           14327.419333\n",
      "Name: Total Savings, dtype: float64\n",
      "\n",
      "4. (2) total jobs create for each NTAd:\n",
      "NTA\n",
      "Battery Park City-Lower Manhattan                    0.0\n",
      "Bushwick South                                      10.0\n",
      "Carroll Gardens-Columbia Street-Red Hook             0.0\n",
      "College Point                                        2.0\n",
      "Crown Heights North                                  0.0\n",
      "DUMBO-Vinegar Hill-Downtown Brooklyn-Boerum Hill     0.0\n",
      "East New York                                       15.0\n",
      "East Williamsburg                                    0.0\n",
      "Greenpoint                                           0.0\n",
      "Hunters Point-Sunnyside-West Maspeth                 0.0\n",
      "Hunts Point                                         12.0\n",
      "Manhattanville                                       0.0\n",
      "Maspeth                                             10.0\n",
      "Mott Haven-Port Morris                              10.0\n",
      "Queensbridge-Ravenswood-Long Island City             0.0\n",
      "SoHo-TriBeCa-Civic Center-Little Italy               0.0\n",
      "Springfield Gardens South-Brookville                 0.0\n",
      "Steinway                                            20.0\n",
      "Sunset Park West                                     0.0\n",
      "park-cemetery-etc-Brooklyn                           0.0\n",
      "Name: Job created, dtype: float64\n"
     ]
    }
   ],
   "source": [
    "import pandas as pd\n",
    "\n",
    "# read csv file to dataframe\n",
    "df = pd.read_csv(\"./energy_cost.csv\")\n",
    "\n",
    "# 1. How many different companies are represented in the data set?\n",
    "print(\"1. There are {} different companies\".format(df['Company Name'].unique().shape[0]))\n",
    "\n",
    "# 2. What is the total number of jobs created for businesses in Queens?\n",
    "filtered_df = df[df['Borough'] == 'Queens']\n",
    "total_jobs = filtered_df['Job created'].sum()\n",
    "print(\"2. There are {} jobs created in Queens\".format(int(total_jobs)))\n",
    "\n",
    "# 3. How many different unique email domains names are there in the data set?\n",
    "df['domain'] = df['company email'].str.split('@').str[1]\n",
    "print(\"3. There are {} unique email domain names\".format(df['domain'].unique().shape[0]))\n",
    "\n",
    "# 4. Considering only NTAs with at least 5 listed businesses, what is the average total savings and the total jobs created for each NTA?\n",
    "groups = df.groupby('NTA')\n",
    "\n",
    "filtered_df = groups.filter(lambda x: len(x) >= 5)\n",
    "\n",
    "new_groups = filtered_df.groupby('NTA')\n",
    "\n",
    "print()\n",
    "print('4. (1) average total savings:')\n",
    "print(new_groups['Total Savings'].mean())\n",
    "print()\n",
    "print('4. (2) total jobs create for each NTAd:')\n",
    "print(new_groups['Job created'].sum())"
   ]
  },
  {
   "cell_type": "markdown",
   "id": "77f1c7dd",
   "metadata": {},
   "source": [
    "## Day 5: Plotting"
   ]
  },
  {
   "cell_type": "markdown",
   "id": "cf37013e",
   "metadata": {},
   "source": [
    "### 1. scatter plot"
   ]
  },
  {
   "cell_type": "code",
   "execution_count": 129,
   "id": "db266833",
   "metadata": {},
   "outputs": [
    {
     "data": {
      "image/png": "[encoded data removed]",
      "text/plain": [
       "<Figure size 432x288 with 2 Axes>"
      ]
     },
     "metadata": {
      "needs_background": "light"
     },
     "output_type": "display_data"
    }
   ],
   "source": [
    "import matplotlib.pyplot as plt\n",
    "import numpy as np\n",
    "\n",
    "fig, axes = plt.subplots(2, 1)\n",
    "\n",
    "axes[0].scatter( df['Total Savings'], df['Job created'])\n",
    "axes[0].set_xlabel(\"Total Savings in linear scale\")\n",
    "axes[0].set_ylabel('Job Created')\n",
    "\n",
    "axes[1].scatter( df['Total Savings'], df['Job created'])\n",
    "axes[1].set_xscale('log')\n",
    "axes[1].set_xlabel(\"Total Savings in log scale\")\n",
    "axes[1].set_ylabel('Job Created')\n",
    "\n",
    "plt.subplots_adjust(hspace=0.4)\n",
    "plt.show()"
   ]
  },
  {
   "cell_type": "markdown",
   "id": "6f0330e6",
   "metadata": {},
   "source": [
    "### 2. histogram"
   ]
  },
  {
   "cell_type": "code",
   "execution_count": 160,
   "id": "7fe8face",
   "metadata": {},
   "outputs": [
    {
     "name": "stdout",
     "output_type": "stream",
     "text": [
      "0          -inf\n",
      "1      5.135381\n",
      "2      5.481384\n",
      "3      3.334387\n",
      "4      5.964923\n",
      "         ...   \n",
      "445    4.548816\n",
      "446    3.163537\n",
      "447    3.952842\n",
      "448    3.395298\n",
      "449        -inf\n",
      "Name: Total Savings, Length: 446, dtype: float64\n"
     ]
    },
    {
     "name": "stderr",
     "output_type": "stream",
     "text": [
      "c:\\users\\45463\\appdata\\local\\programs\\python\\python38\\lib\\site-packages\\pandas\\core\\arraylike.py:397: RuntimeWarning: divide by zero encountered in log10\n",
      "  result = getattr(ufunc, method)(*inputs, **kwargs)\n",
      "c:\\users\\45463\\appdata\\local\\programs\\python\\python38\\lib\\site-packages\\pandas\\core\\arraylike.py:397: RuntimeWarning: invalid value encountered in log10\n",
      "  result = getattr(ufunc, method)(*inputs, **kwargs)\n"
     ]
    },
    {
     "data": {
      "image/png": "[encoded data removed]",
      "text/plain": [
       "<Figure size 432x288 with 1 Axes>"
      ]
     },
     "metadata": {
      "needs_background": "light"
     },
     "output_type": "display_data"
    }
   ],
   "source": [
    "data = np.log10(df['Total Savings'])\n",
    "\n",
    "data = data[~np.isnan(data)]\n",
    "print(data)\n",
    "data[np.isinf(data)] = -1000\n",
    "\n",
    "# np.histogram(data)\n",
    "fig, ax = plt.subplots()\n",
    "ax.hist(data, log=True, rwidth=0.3, range=(0, data.max() + 1))\n",
    "ax.set_xlabel(\"Average Total Savings in Log10 scale\")\n",
    "ax.set_ylabel(\"Count\")\n",
    "plt.show()"
   ]
  },
  {
   "cell_type": "markdown",
   "id": "bd3e8577",
   "metadata": {},
   "source": [
    "### 3. line plot"
   ]
  },
  {
   "cell_type": "code",
   "execution_count": 127,
   "id": "280b229c",
   "metadata": {},
   "outputs": [
    {
     "name": "stdout",
     "output_type": "stream",
     "text": [
      "Effective Date\n",
      "1993-02-28    15.0\n",
      "1993-03-31     0.0\n",
      "1993-04-30     0.0\n",
      "1993-05-31     0.0\n",
      "1993-06-30     0.0\n",
      "              ... \n",
      "2020-03-31     0.0\n",
      "2020-04-30     0.0\n",
      "2020-05-31     0.0\n",
      "2020-06-30     0.0\n",
      "2020-07-31     0.0\n",
      "Freq: M, Name: Job created, Length: 330, dtype: float64\n"
     ]
    },
    {
     "data": {
      "image/png": "[encoded data removed]",
      "text/plain": [
       "<Figure size 432x288 with 1 Axes>"
      ]
     },
     "metadata": {
      "needs_background": "light"
     },
     "output_type": "display_data"
    }
   ],
   "source": [
    "df = pd.read_csv(\"./energy_cost.csv\")\n",
    "df['Effective Date'] = pd.to_datetime(df['Effective Date'])\n",
    "\n",
    "data = df.groupby(pd.Grouper(key='Effective Date', axis=0, freq='M'))['Job created'].sum()\n",
    "\n",
    "print(data)\n",
    "\n",
    "fig = plt.plot(np.arange(len(data)), data)"
   ]
  }
 ],
 "metadata": {
  "kernelspec": {
   "display_name": "Python 3 (ipykernel)",
   "language": "python",
   "name": "python3"
  },
  "language_info": {
   "codemirror_mode": {
    "name": "ipython",
    "version": 3
   },
   "file_extension": ".py",
   "mimetype": "text/x-python",
   "name": "python",
   "nbconvert_exporter": "python",
   "pygments_lexer": "ipython3",
   "version": "3.8.2"
  }
 },
 "nbformat": 4,
 "nbformat_minor": 5
}
